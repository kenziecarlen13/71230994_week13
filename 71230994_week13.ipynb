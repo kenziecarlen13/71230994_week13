{
 "cells": [
  {
   "cell_type": "code",
   "execution_count": 4,
   "metadata": {},
   "outputs": [
    {
     "name": "stdout",
     "output_type": "stream",
     "text": [
      "Masukkan 5 nama aplikasi di kategori (1)\n",
      "Masukkan 5 nama aplikasi di kategori (2)\n",
      "Masukkan 5 nama aplikasi di kategori (3)\n",
      "\n",
      "Jenis kategori dan aplikasi (kategori, nama aplikasi):\n",
      "1. ('1', ['a', 'b', 'c', 'd', 'e'])\n",
      "2. ('2', ['a', 'b', 'c', 'd', 'r'])\n",
      "3. ('3', ['a', 'b', 'f', 'g', 'h'])\n",
      "\n",
      "Aplikasi yang hanya muncul di satu kategori:\n",
      "1. h hanya muncul satu kali\n",
      "2. g hanya muncul satu kali\n",
      "3. r hanya muncul satu kali\n",
      "4. f hanya muncul satu kali\n",
      "5. e hanya muncul satu kali\n",
      "\n",
      "Aplikasi yang muncul di dua kategori:\n",
      "1. c muncul pada kategori: 1, 2\n",
      "2. d muncul pada kategori: 1, 2\n",
      "\n",
      "Aplikasi yang muncul lebih dari dua kategori:\n",
      "1. a muncul pada kategori: 1, 2, 3\n",
      "2. b muncul pada kategori: 1, 2, 3\n"
     ]
    }
   ],
   "source": [
    "#nomor 1\n",
    "n = int(input('Masukkan jumlah kategori: '))\n",
    "data_aplikasi = {}\n",
    "\n",
    "for i in range(n):\n",
    "    nama_kategori = input('Masukkan jenis kategori: ')\n",
    "    print(f\"Masukkan 5 nama aplikasi di kategori ({nama_kategori})\")\n",
    "\n",
    "    aplikasi = []\n",
    "    for j in range(5):\n",
    "        nama_aplikasi = input(f'Nama aplikasi {j+1}: ')\n",
    "        aplikasi.append(nama_aplikasi)\n",
    "    data_aplikasi[nama_kategori] = aplikasi\n",
    "\n",
    "k = 1\n",
    "print(\"\\nJenis kategori dan aplikasi (kategori, nama aplikasi):\")\n",
    "for z in data_aplikasi.items():\n",
    "    print(f\"{k}. {z}\")\n",
    "    k += 1\n",
    "\n",
    "aplikasi_satu_kategori = set()\n",
    "\n",
    "aplikasi_dua_kategori = {}\n",
    "\n",
    "aplikasi_lebih_dari_dua_kategori = {}\n",
    "\n",
    "for aplikasi in data_aplikasi.values():\n",
    "    for app in aplikasi:\n",
    "        if sum(app in apps for apps in data_aplikasi.values()) == 1:\n",
    "            aplikasi_satu_kategori.add(app)\n",
    "        elif sum(app in apps for apps in data_aplikasi.values()) == 2:\n",
    "            if app not in aplikasi_dua_kategori:\n",
    "                aplikasi_dua_kategori[app] = [kategori for kategori, apps in data_aplikasi.items() if app in apps]\n",
    "        elif sum(app in apps for apps in data_aplikasi.values()) > 2:\n",
    "            if app not in aplikasi_lebih_dari_dua_kategori:\n",
    "                aplikasi_lebih_dari_dua_kategori[app] = [kategori for kategori, apps in data_aplikasi.items() if app in apps]\n",
    "                \n",
    "j = 1\n",
    "aplikasi_satu_kategori = list(aplikasi_satu_kategori)\n",
    "print(f\"\\nAplikasi yang hanya muncul di satu kategori:\")\n",
    "for apps in aplikasi_satu_kategori:\n",
    "    print(f\"{j}. {apps} hanya muncul satu kali\")\n",
    "    j += 1\n",
    "    \n",
    "i = 1\n",
    "print(\"\\nAplikasi yang muncul di dua kategori:\")\n",
    "for app, kategori in aplikasi_dua_kategori.items():\n",
    "    print(f\"{i}. {app} muncul pada kategori: {', '.join(kategori)}\")\n",
    "    i += 1\n",
    "    \n",
    "a = 1\n",
    "print(\"\\nAplikasi yang muncul lebih dari dua kategori:\")\n",
    "for app, kategori in aplikasi_lebih_dari_dua_kategori.items():\n",
    "    print(f\"{a}. {app} muncul pada kategori: {', '.join(kategori)}\")\n",
    "    a += 1\n",
    "    \n",
    "    "
   ]
  },
  {
   "cell_type": "code",
   "execution_count": 2,
   "metadata": {},
   "outputs": [
    {
     "name": "stdout",
     "output_type": "stream",
     "text": [
      "\n",
      "===<KONVERSI SET TUPLE DAN LIST>===\n",
      "List sebelum konversi: [1, 1, 3, 3, 5, 5]\n",
      "Set setelah konversi dari List: {1, 3, 5}\n",
      "List setelah konversi kembali dari set: [1, 3, 5]\n",
      "\n",
      "Tuple sebelum konversi: (2, 2, 4, 4, 6, 6)\n",
      "Set setelah konversi dari Tuple: {2, 4, 6}\n",
      "Tuple setelah konversi kembali dari Set:(2, 4, 6)\n"
     ]
    }
   ],
   "source": [
    "#nomor 2\n",
    "l1 = [1, 1, 3, 3, 5, 5 ]; l2s = set(l1); s2l = list(l2s)\n",
    "t1 = (2, 2, 4, 4, 6, 6 ); t2s = set(t1) ; s2t = tuple(t2s); print(\"\\n===<KONVERSI SET TUPLE DAN LIST>===\")\n",
    "print(f\"List sebelum konversi: {l1}\\nSet setelah konversi dari List: {l2s}\\nList setelah konversi kembali dari set: {s2l}\\n\\nTuple sebelum konversi: {t1}\\nSet setelah konversi dari Tuple: {t2s}\\nTuple setelah konversi kembali dari Set:{s2t}\")"
   ]
  },
  {
   "cell_type": "code",
   "execution_count": 1,
   "metadata": {},
   "outputs": [
    {
     "name": "stdout",
     "output_type": "stream",
     "text": [
      "Masukkan nama/format file dengan benar!\n",
      "Masukkan nama/format file dengan benar!\n",
      "Masukkan nama/format file dengan benar!\n",
      "===<KATA YANG SAMA>===\n",
      "alphabet, dan, huruf, pertama, tersenyum, tertawa\n"
     ]
    }
   ],
   "source": [
    "#nomor 3\n",
    "while True:\n",
    "    try:\n",
    "        file1 = input(\"Masukkan file 1 dengan format: \")\n",
    "        file2 = input(\"Masukkan file 2 dengan format: \")\n",
    "        with open(file1, 'r') as f1, open(file2, 'r') as f2:       \n",
    "            f1_new = f1.read().lower().split()\n",
    "            f2_new = f2.read().lower().split()\n",
    "        kumpulan_kata = (set(f1_new) & set(f2_new))\n",
    "        if kumpulan_kata:\n",
    "            print(\"===<KATA YANG SAMA>===\")\n",
    "            list_kosong = []\n",
    "            for word in kumpulan_kata:\n",
    "                list_kosong.append(word)\n",
    "            print(\", \".join(sorted(list_kosong)))\n",
    "\n",
    "        else:\n",
    "            print(\"Tidak ada kata yang sama di kedua file.\")\n",
    "        break\n",
    "    except:\n",
    "        print(\"Masukkan nama/format file dengan benar!\")\n",
    "\n",
    "\n"
   ]
  }
 ],
 "metadata": {
  "kernelspec": {
   "display_name": "base",
   "language": "python",
   "name": "python3"
  },
  "language_info": {
   "codemirror_mode": {
    "name": "ipython",
    "version": 3
   },
   "file_extension": ".py",
   "mimetype": "text/x-python",
   "name": "python",
   "nbconvert_exporter": "python",
   "pygments_lexer": "ipython3",
   "version": "3.11.5"
  }
 },
 "nbformat": 4,
 "nbformat_minor": 2
}
